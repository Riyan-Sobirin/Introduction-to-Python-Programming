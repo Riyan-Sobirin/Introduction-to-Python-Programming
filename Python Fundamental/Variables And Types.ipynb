{
 "cells": [
  {
   "cell_type": "markdown",
   "id": "bb05904f",
   "metadata": {},
   "source": [
    "## Python Variables"
   ]
  },
  {
   "cell_type": "code",
   "execution_count": null,
   "id": "82c174be",
   "metadata": {},
   "outputs": [],
   "source": [
    "height = 1.79"
   ]
  },
  {
   "cell_type": "code",
   "execution_count": 2,
   "id": "95909c79",
   "metadata": {},
   "outputs": [],
   "source": [
    "weight = 68.7"
   ]
  },
  {
   "cell_type": "code",
   "execution_count": 3,
   "id": "0fc77133",
   "metadata": {},
   "outputs": [
    {
     "data": {
      "text/plain": [
       "1.79"
      ]
     },
     "execution_count": 3,
     "metadata": {},
     "output_type": "execute_result"
    }
   ],
   "source": [
    "height"
   ]
  },
  {
   "cell_type": "code",
   "execution_count": 4,
   "id": "bda7d46e",
   "metadata": {},
   "outputs": [],
   "source": [
    "bmi = weight / height ** 2"
   ]
  },
  {
   "cell_type": "code",
   "execution_count": 6,
   "id": "4debb893",
   "metadata": {},
   "outputs": [
    {
     "data": {
      "text/plain": [
       "21.44127836209856"
      ]
     },
     "execution_count": 6,
     "metadata": {},
     "output_type": "execute_result"
    }
   ],
   "source": [
    "bmi"
   ]
  },
  {
   "cell_type": "markdown",
   "id": "28faff29",
   "metadata": {},
   "source": [
    "## Python Types"
   ]
  },
  {
   "cell_type": "code",
   "execution_count": 7,
   "id": "20def572",
   "metadata": {},
   "outputs": [
    {
     "data": {
      "text/plain": [
       "float"
      ]
     },
     "execution_count": 7,
     "metadata": {},
     "output_type": "execute_result"
    }
   ],
   "source": [
    "type(bmi)"
   ]
  },
  {
   "cell_type": "code",
   "execution_count": 8,
   "id": "258d9a1c",
   "metadata": {},
   "outputs": [],
   "source": [
    "day_of_week = 5"
   ]
  },
  {
   "cell_type": "code",
   "execution_count": 9,
   "id": "57749938",
   "metadata": {},
   "outputs": [
    {
     "data": {
      "text/plain": [
       "int"
      ]
     },
     "execution_count": 9,
     "metadata": {},
     "output_type": "execute_result"
    }
   ],
   "source": [
    "type(day_of_week)"
   ]
  },
  {
   "cell_type": "code",
   "execution_count": 10,
   "id": "f22f9a4f",
   "metadata": {},
   "outputs": [],
   "source": [
    "x = \"body mass index\""
   ]
  },
  {
   "cell_type": "code",
   "execution_count": 11,
   "id": "4159d82b",
   "metadata": {},
   "outputs": [],
   "source": [
    "y = 'this works too'"
   ]
  },
  {
   "cell_type": "code",
   "execution_count": 12,
   "id": "2f7d8388",
   "metadata": {},
   "outputs": [
    {
     "data": {
      "text/plain": [
       "str"
      ]
     },
     "execution_count": 12,
     "metadata": {},
     "output_type": "execute_result"
    }
   ],
   "source": [
    "type(y)"
   ]
  },
  {
   "cell_type": "code",
   "execution_count": 14,
   "id": "6c9e7385",
   "metadata": {},
   "outputs": [],
   "source": [
    "z = True"
   ]
  },
  {
   "cell_type": "code",
   "execution_count": 15,
   "id": "a9116eed",
   "metadata": {},
   "outputs": [
    {
     "data": {
      "text/plain": [
       "bool"
      ]
     },
     "execution_count": 15,
     "metadata": {},
     "output_type": "execute_result"
    }
   ],
   "source": [
    "type(z)"
   ]
  },
  {
   "cell_type": "code",
   "execution_count": 16,
   "id": "99504fb4",
   "metadata": {},
   "outputs": [
    {
     "data": {
      "text/plain": [
       "5"
      ]
     },
     "execution_count": 16,
     "metadata": {},
     "output_type": "execute_result"
    }
   ],
   "source": [
    "2 + 3"
   ]
  },
  {
   "cell_type": "code",
   "execution_count": 17,
   "id": "dd786f46",
   "metadata": {},
   "outputs": [
    {
     "data": {
      "text/plain": [
       "'abcd'"
      ]
     },
     "execution_count": 17,
     "metadata": {},
     "output_type": "execute_result"
    }
   ],
   "source": [
    "'ab' + 'cd'"
   ]
  },
  {
   "cell_type": "code",
   "execution_count": null,
   "id": "f974f191",
   "metadata": {},
   "outputs": [],
   "source": []
  }
 ],
 "metadata": {
  "kernelspec": {
   "display_name": "Python 3 (ipykernel)",
   "language": "python",
   "name": "python3"
  },
  "language_info": {
   "codemirror_mode": {
    "name": "ipython",
    "version": 3
   },
   "file_extension": ".py",
   "mimetype": "text/x-python",
   "name": "python",
   "nbconvert_exporter": "python",
   "pygments_lexer": "ipython3",
   "version": "3.9.7"
  }
 },
 "nbformat": 4,
 "nbformat_minor": 5
}
