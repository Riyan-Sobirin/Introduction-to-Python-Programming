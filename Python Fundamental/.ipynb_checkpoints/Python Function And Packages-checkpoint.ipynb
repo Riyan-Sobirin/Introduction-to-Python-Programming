{
 "cells": [
  {
   "cell_type": "markdown",
   "id": "cf5cbeec",
   "metadata": {},
   "source": [
    "# Functions"
   ]
  },
  {
   "cell_type": "markdown",
   "id": "e611508a",
   "metadata": {},
   "source": [
    "##  Built-in Functions  max ()"
   ]
  },
  {
   "cell_type": "code",
   "execution_count": 1,
   "id": "8d00ea54",
   "metadata": {},
   "outputs": [],
   "source": [
    "fam = [1.73, 1.68, 1.71, 1.89]"
   ]
  },
  {
   "cell_type": "code",
   "execution_count": 2,
   "id": "a2922d1c",
   "metadata": {},
   "outputs": [
    {
     "data": {
      "text/plain": [
       "[1.73, 1.68, 1.71, 1.89]"
      ]
     },
     "execution_count": 2,
     "metadata": {},
     "output_type": "execute_result"
    }
   ],
   "source": [
    "fam"
   ]
  },
  {
   "cell_type": "code",
   "execution_count": 3,
   "id": "c9f04ad8",
   "metadata": {},
   "outputs": [
    {
     "data": {
      "text/plain": [
       "1.89"
      ]
     },
     "execution_count": 3,
     "metadata": {},
     "output_type": "execute_result"
    }
   ],
   "source": [
    "max(fam)"
   ]
  },
  {
   "cell_type": "code",
   "execution_count": 4,
   "id": "34d0ba36",
   "metadata": {},
   "outputs": [],
   "source": [
    "tallest = max(fam)"
   ]
  },
  {
   "cell_type": "code",
   "execution_count": 5,
   "id": "6e7fad5d",
   "metadata": {},
   "outputs": [
    {
     "data": {
      "text/plain": [
       "1.89"
      ]
     },
     "execution_count": 5,
     "metadata": {},
     "output_type": "execute_result"
    }
   ],
   "source": [
    "tallest"
   ]
  },
  {
   "cell_type": "markdown",
   "id": "58696f80",
   "metadata": {},
   "source": [
    "## round ()"
   ]
  },
  {
   "cell_type": "code",
   "execution_count": 6,
   "id": "93091e36",
   "metadata": {},
   "outputs": [
    {
     "data": {
      "text/plain": [
       "1.7"
      ]
     },
     "execution_count": 6,
     "metadata": {},
     "output_type": "execute_result"
    }
   ],
   "source": [
    "round(1.68, 1)"
   ]
  },
  {
   "cell_type": "code",
   "execution_count": 7,
   "id": "eec9f4d0",
   "metadata": {},
   "outputs": [
    {
     "data": {
      "text/plain": [
       "2"
      ]
     },
     "execution_count": 7,
     "metadata": {},
     "output_type": "execute_result"
    }
   ],
   "source": [
    "round(1.68)"
   ]
  },
  {
   "cell_type": "code",
   "execution_count": 8,
   "id": "464dda0d",
   "metadata": {},
   "outputs": [
    {
     "name": "stdout",
     "output_type": "stream",
     "text": [
      "Help on built-in function round in module builtins:\n",
      "\n",
      "round(number, ndigits=None)\n",
      "    Round a number to a given precision in decimal digits.\n",
      "    \n",
      "    The return value is an integer if ndigits is omitted or None.  Otherwise\n",
      "    the return value has the same type as the number.  ndigits may be negative.\n",
      "\n"
     ]
    }
   ],
   "source": [
    "help(round)"
   ]
  },
  {
   "cell_type": "markdown",
   "id": "d33693ee",
   "metadata": {},
   "source": [
    "# Methods"
   ]
  },
  {
   "cell_type": "markdown",
   "id": "76b47180",
   "metadata": {},
   "source": [
    "## list methods"
   ]
  },
  {
   "cell_type": "code",
   "execution_count": 10,
   "id": "897ecfd5",
   "metadata": {},
   "outputs": [],
   "source": [
    "fam = ['liz', 1.73, 'emma', 1.68, 'mom', 1.71, 'dad', 1.89]"
   ]
  },
  {
   "cell_type": "code",
   "execution_count": 11,
   "id": "17b506cb",
   "metadata": {},
   "outputs": [
    {
     "data": {
      "text/plain": [
       "['liz', 1.73, 'emma', 1.68, 'mom', 1.71, 'dad', 1.89]"
      ]
     },
     "execution_count": 11,
     "metadata": {},
     "output_type": "execute_result"
    }
   ],
   "source": [
    "fam"
   ]
  },
  {
   "cell_type": "code",
   "execution_count": 12,
   "id": "08a3b9e3",
   "metadata": {},
   "outputs": [
    {
     "data": {
      "text/plain": [
       "4"
      ]
     },
     "execution_count": 12,
     "metadata": {},
     "output_type": "execute_result"
    }
   ],
   "source": [
    "fam.index(\"mom\")"
   ]
  },
  {
   "cell_type": "code",
   "execution_count": 13,
   "id": "4e722daa",
   "metadata": {},
   "outputs": [
    {
     "data": {
      "text/plain": [
       "1"
      ]
     },
     "execution_count": 13,
     "metadata": {},
     "output_type": "execute_result"
    }
   ],
   "source": [
    "fam.count(1.73)"
   ]
  },
  {
   "cell_type": "markdown",
   "id": "824169ff",
   "metadata": {},
   "source": [
    "## str methods"
   ]
  },
  {
   "cell_type": "code",
   "execution_count": 17,
   "id": "e23b2f84",
   "metadata": {},
   "outputs": [],
   "source": [
    "sister = 'liz'"
   ]
  },
  {
   "cell_type": "code",
   "execution_count": 18,
   "id": "487a6d96",
   "metadata": {},
   "outputs": [
    {
     "data": {
      "text/plain": [
       "'liz'"
      ]
     },
     "execution_count": 18,
     "metadata": {},
     "output_type": "execute_result"
    }
   ],
   "source": [
    "sister"
   ]
  },
  {
   "cell_type": "code",
   "execution_count": 19,
   "id": "cd1db34d",
   "metadata": {},
   "outputs": [
    {
     "data": {
      "text/plain": [
       "'Liz'"
      ]
     },
     "execution_count": 19,
     "metadata": {},
     "output_type": "execute_result"
    }
   ],
   "source": [
    "sister.capitalize()"
   ]
  },
  {
   "cell_type": "code",
   "execution_count": 20,
   "id": "1ca661e2",
   "metadata": {},
   "outputs": [
    {
     "data": {
      "text/plain": [
       "'lisa'"
      ]
     },
     "execution_count": 20,
     "metadata": {},
     "output_type": "execute_result"
    }
   ],
   "source": [
    "sister.replace(\"z\", \"sa\")"
   ]
  },
  {
   "cell_type": "code",
   "execution_count": 21,
   "id": "fa9ac903",
   "metadata": {},
   "outputs": [
    {
     "data": {
      "text/plain": [
       "2"
      ]
     },
     "execution_count": 21,
     "metadata": {},
     "output_type": "execute_result"
    }
   ],
   "source": [
    "sister.index(\"z\")"
   ]
  },
  {
   "cell_type": "code",
   "execution_count": 22,
   "id": "c4d4ff89",
   "metadata": {},
   "outputs": [
    {
     "data": {
      "text/plain": [
       "4"
      ]
     },
     "execution_count": 22,
     "metadata": {},
     "output_type": "execute_result"
    }
   ],
   "source": [
    "fam.index(\"mom\")"
   ]
  },
  {
   "cell_type": "code",
   "execution_count": 23,
   "id": "bb0cdb8f",
   "metadata": {},
   "outputs": [
    {
     "data": {
      "text/plain": [
       "['liz', 1.73, 'emma', 1.68, 'mom', 1.71, 'dad', 1.89]"
      ]
     },
     "execution_count": 23,
     "metadata": {},
     "output_type": "execute_result"
    }
   ],
   "source": [
    "fam"
   ]
  },
  {
   "cell_type": "code",
   "execution_count": 24,
   "id": "935ad97a",
   "metadata": {},
   "outputs": [],
   "source": [
    "fam.append(\"me\")"
   ]
  },
  {
   "cell_type": "code",
   "execution_count": 25,
   "id": "cd2dd738",
   "metadata": {},
   "outputs": [
    {
     "data": {
      "text/plain": [
       "['liz', 1.73, 'emma', 1.68, 'mom', 1.71, 'dad', 1.89, 'me']"
      ]
     },
     "execution_count": 25,
     "metadata": {},
     "output_type": "execute_result"
    }
   ],
   "source": [
    "fam"
   ]
  },
  {
   "cell_type": "code",
   "execution_count": 26,
   "id": "0ee6a50e",
   "metadata": {},
   "outputs": [],
   "source": [
    "fam.append(1.79)"
   ]
  },
  {
   "cell_type": "code",
   "execution_count": 27,
   "id": "babb4759",
   "metadata": {},
   "outputs": [
    {
     "data": {
      "text/plain": [
       "['liz', 1.73, 'emma', 1.68, 'mom', 1.71, 'dad', 1.89, 'me', 1.79]"
      ]
     },
     "execution_count": 27,
     "metadata": {},
     "output_type": "execute_result"
    }
   ],
   "source": [
    "fam"
   ]
  },
  {
   "cell_type": "code",
   "execution_count": 28,
   "id": "54eb05fa",
   "metadata": {},
   "outputs": [
    {
     "data": {
      "text/plain": [
       "6"
      ]
     },
     "execution_count": 28,
     "metadata": {},
     "output_type": "execute_result"
    }
   ],
   "source": [
    "fam.index(\"dad\")"
   ]
  },
  {
   "cell_type": "code",
   "execution_count": 29,
   "id": "2029b735",
   "metadata": {},
   "outputs": [
    {
     "data": {
      "text/plain": [
       "list"
      ]
     },
     "execution_count": 29,
     "metadata": {},
     "output_type": "execute_result"
    }
   ],
   "source": [
    "type(fam)"
   ]
  },
  {
   "cell_type": "markdown",
   "id": "1ce06c52",
   "metadata": {},
   "source": [
    "# Packages"
   ]
  },
  {
   "cell_type": "markdown",
   "id": "a4112c51",
   "metadata": {},
   "source": [
    "## Install package"
   ]
  },
  {
   "cell_type": "markdown",
   "id": "aa8f31c3",
   "metadata": {},
   "source": [
    "* http://pip.readthedocs.org/en/stable/installing/\n",
    "\n",
    "* Download get-pip.py\n",
    "\n",
    "* Terminal:\n",
    "\n",
    "    * python3 get-pip.py\n",
    "    * pip3 install numpy"
   ]
  },
  {
   "cell_type": "markdown",
   "id": "64e72b63",
   "metadata": {},
   "source": [
    "## Import package"
   ]
  },
  {
   "cell_type": "code",
   "execution_count": 30,
   "id": "f441c22d",
   "metadata": {},
   "outputs": [],
   "source": [
    "import numpy\n"
   ]
  },
  {
   "cell_type": "code",
   "execution_count": 31,
   "id": "d2fb1739",
   "metadata": {},
   "outputs": [
    {
     "data": {
      "text/plain": [
       "array([1, 2, 3])"
      ]
     },
     "execution_count": 31,
     "metadata": {},
     "output_type": "execute_result"
    }
   ],
   "source": [
    "numpy.array([1, 2, 3])"
   ]
  },
  {
   "cell_type": "code",
   "execution_count": 32,
   "id": "4077c908",
   "metadata": {},
   "outputs": [],
   "source": [
    "import numpy as np"
   ]
  },
  {
   "cell_type": "code",
   "execution_count": 41,
   "id": "9809fa4c",
   "metadata": {},
   "outputs": [
    {
     "data": {
      "text/plain": [
       "array([1, 2, 3])"
      ]
     },
     "execution_count": 41,
     "metadata": {},
     "output_type": "execute_result"
    }
   ],
   "source": [
    "np.array([1, 2, 3])"
   ]
  },
  {
   "cell_type": "markdown",
   "id": "12535729",
   "metadata": {},
   "source": [
    "## from numpy import array\n",
    "\n",
    "### Using Numpy, but not very clear "
   ]
  },
  {
   "cell_type": "code",
   "execution_count": 34,
   "id": "323086cd",
   "metadata": {},
   "outputs": [],
   "source": [
    "from numpy import array"
   ]
  },
  {
   "cell_type": "code",
   "execution_count": 35,
   "id": "35d4f606",
   "metadata": {},
   "outputs": [],
   "source": [
    "fam = [\"liz\", 1.73, \"emma\", 1.68,\n",
    "       \"mom\", 1.71, \"dad\", 1.89]"
   ]
  },
  {
   "cell_type": "code",
   "execution_count": 36,
   "id": "8edfcddb",
   "metadata": {},
   "outputs": [],
   "source": [
    "fam_ext = fam + [\"me\", 1.79]"
   ]
  },
  {
   "cell_type": "code",
   "execution_count": 38,
   "id": "e4ab9eba",
   "metadata": {},
   "outputs": [
    {
     "name": "stdout",
     "output_type": "stream",
     "text": [
      "10 elements in fam_ext\n"
     ]
    }
   ],
   "source": [
    "print(str(len(fam_ext)) + \" elements in fam_ext\")"
   ]
  },
  {
   "cell_type": "code",
   "execution_count": 39,
   "id": "722c5c8a",
   "metadata": {},
   "outputs": [],
   "source": [
    "np_fam = array(fam_ext)"
   ]
  },
  {
   "cell_type": "code",
   "execution_count": 40,
   "id": "6a1bf524",
   "metadata": {},
   "outputs": [
    {
     "data": {
      "text/plain": [
       "array(['liz', '1.73', 'emma', '1.68', 'mom', '1.71', 'dad', '1.89', 'me',\n",
       "       '1.79'], dtype='<U32')"
      ]
     },
     "execution_count": 40,
     "metadata": {},
     "output_type": "execute_result"
    }
   ],
   "source": [
    "np_fam"
   ]
  },
  {
   "cell_type": "markdown",
   "id": "c71f499d",
   "metadata": {},
   "source": [
    "## import numpy\n",
    "### Clearly using Numpy"
   ]
  },
  {
   "cell_type": "code",
   "execution_count": 42,
   "id": "5764243f",
   "metadata": {},
   "outputs": [],
   "source": [
    "import numpy"
   ]
  },
  {
   "cell_type": "code",
   "execution_count": 43,
   "id": "1e671e32",
   "metadata": {},
   "outputs": [],
   "source": [
    "fam = [\"liz\", 1.73, \"emma\", 1.68,\n",
    "       \"mom\", 1.71, \"dad\", 1.89]"
   ]
  },
  {
   "cell_type": "code",
   "execution_count": 44,
   "id": "c9319862",
   "metadata": {},
   "outputs": [],
   "source": [
    "fam_ext = fam + [\"me\", 1.79]"
   ]
  },
  {
   "cell_type": "code",
   "execution_count": 45,
   "id": "e4f80004",
   "metadata": {},
   "outputs": [
    {
     "name": "stdout",
     "output_type": "stream",
     "text": [
      "10 elements in fam_ext\n"
     ]
    }
   ],
   "source": [
    "print(str(len(fam_ext)) + \" elements in fam_ext\")"
   ]
  },
  {
   "cell_type": "code",
   "execution_count": 46,
   "id": "f85ad313",
   "metadata": {},
   "outputs": [],
   "source": [
    "np_fam = numpy.array(fam_ext)"
   ]
  },
  {
   "cell_type": "code",
   "execution_count": 47,
   "id": "b8f12604",
   "metadata": {},
   "outputs": [
    {
     "data": {
      "text/plain": [
       "array(['liz', '1.73', 'emma', '1.68', 'mom', '1.71', 'dad', '1.89', 'me',\n",
       "       '1.79'], dtype='<U32')"
      ]
     },
     "execution_count": 47,
     "metadata": {},
     "output_type": "execute_result"
    }
   ],
   "source": [
    "np_fam"
   ]
  },
  {
   "cell_type": "code",
   "execution_count": null,
   "id": "e847b477",
   "metadata": {},
   "outputs": [],
   "source": []
  }
 ],
 "metadata": {
  "kernelspec": {
   "display_name": "Python 3 (ipykernel)",
   "language": "python",
   "name": "python3"
  },
  "language_info": {
   "codemirror_mode": {
    "name": "ipython",
    "version": 3
   },
   "file_extension": ".py",
   "mimetype": "text/x-python",
   "name": "python",
   "nbconvert_exporter": "python",
   "pygments_lexer": "ipython3",
   "version": "3.9.7"
  }
 },
 "nbformat": 4,
 "nbformat_minor": 5
}
