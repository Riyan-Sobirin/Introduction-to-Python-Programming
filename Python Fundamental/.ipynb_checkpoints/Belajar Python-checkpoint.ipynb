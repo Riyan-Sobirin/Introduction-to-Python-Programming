{
 "cells": [
  {
   "cell_type": "markdown",
   "id": "84e7a70e",
   "metadata": {},
   "source": [
    "Saya ingin mahir di bahasa Python"
   ]
  },
  {
   "cell_type": "code",
   "execution_count": 1,
   "id": "4c3839e7",
   "metadata": {},
   "outputs": [
    {
     "name": "stdout",
     "output_type": "stream",
     "text": [
      "SHIFT + ENTER\n"
     ]
    }
   ],
   "source": [
    "print('SHIFT + ENTER')"
   ]
  },
  {
   "cell_type": "code",
   "execution_count": 2,
   "id": "42491763",
   "metadata": {},
   "outputs": [
    {
     "data": {
      "text/plain": [
       "3"
      ]
     },
     "execution_count": 2,
     "metadata": {},
     "output_type": "execute_result"
    }
   ],
   "source": [
    "1+2"
   ]
  },
  {
   "cell_type": "markdown",
   "id": "0805bc0e",
   "metadata": {},
   "source": [
    "Jika ingin menambah line tanpa eksekusi ketik ALT+ENTER"
   ]
  },
  {
   "cell_type": "code",
   "execution_count": 3,
   "id": "8a696f2d",
   "metadata": {},
   "outputs": [
    {
     "data": {
      "text/plain": [
       "1440"
      ]
     },
     "execution_count": 3,
     "metadata": {},
     "output_type": "execute_result"
    }
   ],
   "source": [
    "18*80"
   ]
  },
  {
   "cell_type": "markdown",
   "id": "2aed2084",
   "metadata": {},
   "source": [
    "# Belajar Menggunakan Python"
   ]
  },
  {
   "cell_type": "markdown",
   "id": "e1f04d4b",
   "metadata": {},
   "source": [
    "Python adalah sebuah Bahasa pemrograman yang paling populer saat ini"
   ]
  },
  {
   "cell_type": "markdown",
   "id": "7428b9bd",
   "metadata": {},
   "source": [
    "# Heading 1\n",
    "## Heading 2\n",
    "### Heading 3\n",
    "#### Heading 4\n",
    "##### Heading 5\n",
    "###### Heading 6"
   ]
  },
  {
   "cell_type": "markdown",
   "id": "bae2f832",
   "metadata": {},
   "source": [
    "Kita berlatih menggunakan italic *seperti ini*"
   ]
  },
  {
   "cell_type": "markdown",
   "id": "35982eca",
   "metadata": {},
   "source": [
    "Kita membuat text menjadi **TEBAL**"
   ]
  },
  {
   "cell_type": "markdown",
   "id": "0bcb7ab2",
   "metadata": {},
   "source": [
    "*Kombinasi **tebal** dengan miring*"
   ]
  },
  {
   "cell_type": "markdown",
   "id": "917a5a81",
   "metadata": {},
   "source": [
    "> \"Kuda adalah binatang berkaki empat\""
   ]
  },
  {
   "cell_type": "markdown",
   "id": "42f03f10",
   "metadata": {},
   "source": [
    "Jenis Makanan yang mengandung karbohidrat adalah:\n",
    "* Nasi\n",
    "* Roti \n",
    "* Tepung\n",
    "    * Tepung Terigu\n",
    "    * Tepung Beras\n",
    "    * Tepung Jagung"
   ]
  },
  {
   "cell_type": "markdown",
   "id": "325e5726",
   "metadata": {},
   "source": [
    "Juara Lomba Lari adalah:\n",
    "1. Ryan\n",
    "2. Budi\n",
    "3. Boy"
   ]
  },
  {
   "cell_type": "markdown",
   "id": "e2f35034",
   "metadata": {},
   "source": [
    "\\*tanda ini berhasil dipakai tanpa membuat kalimatnya menjadi miring*"
   ]
  },
  {
   "cell_type": "markdown",
   "id": "035b17d2",
   "metadata": {},
   "source": [
    "![nama gambar bebas](certificate.jpg)"
   ]
  },
  {
   "cell_type": "code",
   "execution_count": null,
   "id": "d64cbe4c",
   "metadata": {},
   "outputs": [],
   "source": []
  }
 ],
 "metadata": {
  "kernelspec": {
   "display_name": "Python 3 (ipykernel)",
   "language": "python",
   "name": "python3"
  },
  "language_info": {
   "codemirror_mode": {
    "name": "ipython",
    "version": 3
   },
   "file_extension": ".py",
   "mimetype": "text/x-python",
   "name": "python",
   "nbconvert_exporter": "python",
   "pygments_lexer": "ipython3",
   "version": "3.9.7"
  }
 },
 "nbformat": 4,
 "nbformat_minor": 5
}
