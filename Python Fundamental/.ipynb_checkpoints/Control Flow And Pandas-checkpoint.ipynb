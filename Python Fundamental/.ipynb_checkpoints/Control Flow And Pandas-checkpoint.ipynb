{
 "cells": [
  {
   "cell_type": "code",
   "execution_count": 14,
   "id": "a7404cbb",
   "metadata": {},
   "outputs": [],
   "source": [
    "import pandas as pd"
   ]
  },
  {
   "cell_type": "code",
   "execution_count": 15,
   "id": "b6aa6c4a",
   "metadata": {},
   "outputs": [],
   "source": [
    "brics = pd.read_csv(\"brics.csv\", index_col = 0)"
   ]
  },
  {
   "cell_type": "code",
   "execution_count": 16,
   "id": "8e2aebee",
   "metadata": {},
   "outputs": [
    {
     "data": {
      "text/html": [
       "<div>\n",
       "<style scoped>\n",
       "    .dataframe tbody tr th:only-of-type {\n",
       "        vertical-align: middle;\n",
       "    }\n",
       "\n",
       "    .dataframe tbody tr th {\n",
       "        vertical-align: top;\n",
       "    }\n",
       "\n",
       "    .dataframe thead th {\n",
       "        text-align: right;\n",
       "    }\n",
       "</style>\n",
       "<table border=\"1\" class=\"dataframe\">\n",
       "  <thead>\n",
       "    <tr style=\"text-align: right;\">\n",
       "      <th></th>\n",
       "      <th>country</th>\n",
       "      <th>population</th>\n",
       "      <th>area</th>\n",
       "      <th>capital</th>\n",
       "    </tr>\n",
       "  </thead>\n",
       "  <tbody>\n",
       "    <tr>\n",
       "      <th>BR</th>\n",
       "      <td>Brazil</td>\n",
       "      <td>200</td>\n",
       "      <td>8515767</td>\n",
       "      <td>Brasilia</td>\n",
       "    </tr>\n",
       "    <tr>\n",
       "      <th>RU</th>\n",
       "      <td>Russia</td>\n",
       "      <td>144</td>\n",
       "      <td>17098242</td>\n",
       "      <td>Moscow</td>\n",
       "    </tr>\n",
       "    <tr>\n",
       "      <th>IN</th>\n",
       "      <td>India</td>\n",
       "      <td>1252</td>\n",
       "      <td>3287590</td>\n",
       "      <td>New Delhi</td>\n",
       "    </tr>\n",
       "    <tr>\n",
       "      <th>CH</th>\n",
       "      <td>China</td>\n",
       "      <td>1357</td>\n",
       "      <td>9596961</td>\n",
       "      <td>Beijing</td>\n",
       "    </tr>\n",
       "    <tr>\n",
       "      <th>SA</th>\n",
       "      <td>South Africa</td>\n",
       "      <td>55</td>\n",
       "      <td>1221037</td>\n",
       "      <td>Pretoria</td>\n",
       "    </tr>\n",
       "  </tbody>\n",
       "</table>\n",
       "</div>"
      ],
      "text/plain": [
       "         country  population      area    capital\n",
       "BR        Brazil         200   8515767   Brasilia\n",
       "RU        Russia         144  17098242     Moscow\n",
       "IN         India        1252   3287590  New Delhi\n",
       "CH         China        1357   9596961    Beijing\n",
       "SA  South Africa          55   1221037   Pretoria"
      ]
     },
     "execution_count": 16,
     "metadata": {},
     "output_type": "execute_result"
    }
   ],
   "source": [
    "brics"
   ]
  },
  {
   "cell_type": "code",
   "execution_count": 17,
   "id": "799ce15d",
   "metadata": {},
   "outputs": [
    {
     "data": {
      "text/plain": [
       "BR          Brazil\n",
       "RU          Russia\n",
       "IN           India\n",
       "CH           China\n",
       "SA    South Africa\n",
       "Name: country, dtype: object"
      ]
     },
     "execution_count": 17,
     "metadata": {},
     "output_type": "execute_result"
    }
   ],
   "source": [
    "brics[\"country\"]"
   ]
  },
  {
   "cell_type": "code",
   "execution_count": 18,
   "id": "1f62049e",
   "metadata": {},
   "outputs": [
    {
     "data": {
      "text/plain": [
       "BR          Brazil\n",
       "RU          Russia\n",
       "IN           India\n",
       "CH           China\n",
       "SA    South Africa\n",
       "Name: country, dtype: object"
      ]
     },
     "execution_count": 18,
     "metadata": {},
     "output_type": "execute_result"
    }
   ],
   "source": [
    "brics.country"
   ]
  },
  {
   "cell_type": "code",
   "execution_count": 19,
   "id": "66f811c5",
   "metadata": {},
   "outputs": [],
   "source": [
    "brics[\"on_earth\"] = [True, True, True, True, True]"
   ]
  },
  {
   "cell_type": "code",
   "execution_count": 20,
   "id": "02234593",
   "metadata": {},
   "outputs": [
    {
     "data": {
      "text/html": [
       "<div>\n",
       "<style scoped>\n",
       "    .dataframe tbody tr th:only-of-type {\n",
       "        vertical-align: middle;\n",
       "    }\n",
       "\n",
       "    .dataframe tbody tr th {\n",
       "        vertical-align: top;\n",
       "    }\n",
       "\n",
       "    .dataframe thead th {\n",
       "        text-align: right;\n",
       "    }\n",
       "</style>\n",
       "<table border=\"1\" class=\"dataframe\">\n",
       "  <thead>\n",
       "    <tr style=\"text-align: right;\">\n",
       "      <th></th>\n",
       "      <th>country</th>\n",
       "      <th>population</th>\n",
       "      <th>area</th>\n",
       "      <th>capital</th>\n",
       "      <th>on_earth</th>\n",
       "    </tr>\n",
       "  </thead>\n",
       "  <tbody>\n",
       "    <tr>\n",
       "      <th>BR</th>\n",
       "      <td>Brazil</td>\n",
       "      <td>200</td>\n",
       "      <td>8515767</td>\n",
       "      <td>Brasilia</td>\n",
       "      <td>True</td>\n",
       "    </tr>\n",
       "    <tr>\n",
       "      <th>RU</th>\n",
       "      <td>Russia</td>\n",
       "      <td>144</td>\n",
       "      <td>17098242</td>\n",
       "      <td>Moscow</td>\n",
       "      <td>True</td>\n",
       "    </tr>\n",
       "    <tr>\n",
       "      <th>IN</th>\n",
       "      <td>India</td>\n",
       "      <td>1252</td>\n",
       "      <td>3287590</td>\n",
       "      <td>New Delhi</td>\n",
       "      <td>True</td>\n",
       "    </tr>\n",
       "    <tr>\n",
       "      <th>CH</th>\n",
       "      <td>China</td>\n",
       "      <td>1357</td>\n",
       "      <td>9596961</td>\n",
       "      <td>Beijing</td>\n",
       "      <td>True</td>\n",
       "    </tr>\n",
       "    <tr>\n",
       "      <th>SA</th>\n",
       "      <td>South Africa</td>\n",
       "      <td>55</td>\n",
       "      <td>1221037</td>\n",
       "      <td>Pretoria</td>\n",
       "      <td>True</td>\n",
       "    </tr>\n",
       "  </tbody>\n",
       "</table>\n",
       "</div>"
      ],
      "text/plain": [
       "         country  population      area    capital  on_earth\n",
       "BR        Brazil         200   8515767   Brasilia      True\n",
       "RU        Russia         144  17098242     Moscow      True\n",
       "IN         India        1252   3287590  New Delhi      True\n",
       "CH         China        1357   9596961    Beijing      True\n",
       "SA  South Africa          55   1221037   Pretoria      True"
      ]
     },
     "execution_count": 20,
     "metadata": {},
     "output_type": "execute_result"
    }
   ],
   "source": [
    "brics"
   ]
  },
  {
   "cell_type": "code",
   "execution_count": 21,
   "id": "08b11309",
   "metadata": {},
   "outputs": [],
   "source": [
    "brics[\"density\"] = brics[\"population\"] / brics[\"area\"] * 1000000"
   ]
  },
  {
   "cell_type": "code",
   "execution_count": 22,
   "id": "7466d08d",
   "metadata": {},
   "outputs": [
    {
     "data": {
      "text/html": [
       "<div>\n",
       "<style scoped>\n",
       "    .dataframe tbody tr th:only-of-type {\n",
       "        vertical-align: middle;\n",
       "    }\n",
       "\n",
       "    .dataframe tbody tr th {\n",
       "        vertical-align: top;\n",
       "    }\n",
       "\n",
       "    .dataframe thead th {\n",
       "        text-align: right;\n",
       "    }\n",
       "</style>\n",
       "<table border=\"1\" class=\"dataframe\">\n",
       "  <thead>\n",
       "    <tr style=\"text-align: right;\">\n",
       "      <th></th>\n",
       "      <th>country</th>\n",
       "      <th>population</th>\n",
       "      <th>area</th>\n",
       "      <th>capital</th>\n",
       "      <th>on_earth</th>\n",
       "      <th>density</th>\n",
       "    </tr>\n",
       "  </thead>\n",
       "  <tbody>\n",
       "    <tr>\n",
       "      <th>BR</th>\n",
       "      <td>Brazil</td>\n",
       "      <td>200</td>\n",
       "      <td>8515767</td>\n",
       "      <td>Brasilia</td>\n",
       "      <td>True</td>\n",
       "      <td>23.485847</td>\n",
       "    </tr>\n",
       "    <tr>\n",
       "      <th>RU</th>\n",
       "      <td>Russia</td>\n",
       "      <td>144</td>\n",
       "      <td>17098242</td>\n",
       "      <td>Moscow</td>\n",
       "      <td>True</td>\n",
       "      <td>8.421918</td>\n",
       "    </tr>\n",
       "    <tr>\n",
       "      <th>IN</th>\n",
       "      <td>India</td>\n",
       "      <td>1252</td>\n",
       "      <td>3287590</td>\n",
       "      <td>New Delhi</td>\n",
       "      <td>True</td>\n",
       "      <td>380.826076</td>\n",
       "    </tr>\n",
       "    <tr>\n",
       "      <th>CH</th>\n",
       "      <td>China</td>\n",
       "      <td>1357</td>\n",
       "      <td>9596961</td>\n",
       "      <td>Beijing</td>\n",
       "      <td>True</td>\n",
       "      <td>141.398928</td>\n",
       "    </tr>\n",
       "    <tr>\n",
       "      <th>SA</th>\n",
       "      <td>South Africa</td>\n",
       "      <td>55</td>\n",
       "      <td>1221037</td>\n",
       "      <td>Pretoria</td>\n",
       "      <td>True</td>\n",
       "      <td>45.043680</td>\n",
       "    </tr>\n",
       "  </tbody>\n",
       "</table>\n",
       "</div>"
      ],
      "text/plain": [
       "         country  population      area    capital  on_earth     density\n",
       "BR        Brazil         200   8515767   Brasilia      True   23.485847\n",
       "RU        Russia         144  17098242     Moscow      True    8.421918\n",
       "IN         India        1252   3287590  New Delhi      True  380.826076\n",
       "CH         China        1357   9596961    Beijing      True  141.398928\n",
       "SA  South Africa          55   1221037   Pretoria      True   45.043680"
      ]
     },
     "execution_count": 22,
     "metadata": {},
     "output_type": "execute_result"
    }
   ],
   "source": [
    "brics"
   ]
  },
  {
   "cell_type": "code",
   "execution_count": 23,
   "id": "7b4c4398",
   "metadata": {},
   "outputs": [
    {
     "data": {
      "text/plain": [
       "country          Brazil\n",
       "population          200\n",
       "area            8515767\n",
       "capital        Brasilia\n",
       "on_earth           True\n",
       "density       23.485847\n",
       "Name: BR, dtype: object"
      ]
     },
     "execution_count": 23,
     "metadata": {},
     "output_type": "execute_result"
    }
   ],
   "source": [
    "brics.loc[\"BR\"]"
   ]
  },
  {
   "cell_type": "code",
   "execution_count": 26,
   "id": "30d7459e",
   "metadata": {},
   "outputs": [
    {
     "data": {
      "text/plain": [
       "'Beijing'"
      ]
     },
     "execution_count": 26,
     "metadata": {},
     "output_type": "execute_result"
    }
   ],
   "source": [
    "brics.loc[\"CH\",\"capital\"]"
   ]
  },
  {
   "cell_type": "code",
   "execution_count": 27,
   "id": "fe33dc2d",
   "metadata": {},
   "outputs": [
    {
     "data": {
      "text/plain": [
       "'Beijing'"
      ]
     },
     "execution_count": 27,
     "metadata": {},
     "output_type": "execute_result"
    }
   ],
   "source": [
    "brics[\"capital\"].loc[\"CH\"]"
   ]
  },
  {
   "cell_type": "code",
   "execution_count": 28,
   "id": "0c2685ef",
   "metadata": {},
   "outputs": [
    {
     "data": {
      "text/plain": [
       "'Beijing'"
      ]
     },
     "execution_count": 28,
     "metadata": {},
     "output_type": "execute_result"
    }
   ],
   "source": [
    "brics.loc[\"CH\"][\"capital\"]"
   ]
  },
  {
   "cell_type": "code",
   "execution_count": null,
   "id": "a343a7d5",
   "metadata": {},
   "outputs": [],
   "source": []
  }
 ],
 "metadata": {
  "kernelspec": {
   "display_name": "Python 3 (ipykernel)",
   "language": "python",
   "name": "python3"
  },
  "language_info": {
   "codemirror_mode": {
    "name": "ipython",
    "version": 3
   },
   "file_extension": ".py",
   "mimetype": "text/x-python",
   "name": "python",
   "nbconvert_exporter": "python",
   "pygments_lexer": "ipython3",
   "version": "3.9.7"
  }
 },
 "nbformat": 4,
 "nbformat_minor": 5
}
